{
  "nbformat": 4,
  "nbformat_minor": 0,
  "metadata": {
    "colab": {
      "name": "California House Price Prediction using Keras Tuner.ipynb",
      "provenance": []
    },
    "kernelspec": {
      "name": "python3",
      "display_name": "Python 3"
    },
    "language_info": {
      "name": "python"
    },
    "accelerator": "GPU",
    "gpuClass": "standard"
  },
  "cells": [
    {
      "cell_type": "markdown",
      "source": [
        "**CALIFORNIA HOUSING DATASET**"
      ],
      "metadata": {
        "id": "5LeSPrz0BJRi"
      }
    },
    {
      "cell_type": "code",
      "source": [
        "# importing basic libraries\n",
        "import pandas as pd\n",
        "import numpy as np\n",
        "import matplotlib.pyplot as plt\n",
        "%matplotlib inline"
      ],
      "metadata": {
        "id": "SWSOLh0-BI6j"
      },
      "execution_count": 1,
      "outputs": []
    },
    {
      "cell_type": "code",
      "source": [
        "# Reading the data\n",
        "df=pd.read_csv('housing.csv')"
      ],
      "metadata": {
        "id": "xLMb8UGXCsO8"
      },
      "execution_count": 2,
      "outputs": []
    },
    {
      "cell_type": "code",
      "source": [
        "df.head()"
      ],
      "metadata": {
        "colab": {
          "base_uri": "https://localhost:8080/",
          "height": 270
        },
        "id": "mXF8l3jtCyFS",
        "outputId": "24c3ff01-6479-4361-f129-13c53458e1e7"
      },
      "execution_count": 3,
      "outputs": [
        {
          "output_type": "execute_result",
          "data": {
            "text/plain": [
              "   longitude  latitude  housing_median_age  total_rooms  total_bedrooms  \\\n",
              "0    -122.23     37.88                41.0        880.0           129.0   \n",
              "1    -122.22     37.86                21.0       7099.0          1106.0   \n",
              "2    -122.24     37.85                52.0       1467.0           190.0   \n",
              "3    -122.25     37.85                52.0       1274.0           235.0   \n",
              "4    -122.25     37.85                52.0       1627.0           280.0   \n",
              "\n",
              "   population  households  median_income  median_house_value ocean_proximity  \n",
              "0       322.0       126.0         8.3252            452600.0        NEAR BAY  \n",
              "1      2401.0      1138.0         8.3014            358500.0        NEAR BAY  \n",
              "2       496.0       177.0         7.2574            352100.0        NEAR BAY  \n",
              "3       558.0       219.0         5.6431            341300.0        NEAR BAY  \n",
              "4       565.0       259.0         3.8462            342200.0        NEAR BAY  "
            ],
            "text/html": [
              "\n",
              "  <div id=\"df-884a516d-7616-4315-9e9a-222d32fadeb8\">\n",
              "    <div class=\"colab-df-container\">\n",
              "      <div>\n",
              "<style scoped>\n",
              "    .dataframe tbody tr th:only-of-type {\n",
              "        vertical-align: middle;\n",
              "    }\n",
              "\n",
              "    .dataframe tbody tr th {\n",
              "        vertical-align: top;\n",
              "    }\n",
              "\n",
              "    .dataframe thead th {\n",
              "        text-align: right;\n",
              "    }\n",
              "</style>\n",
              "<table border=\"1\" class=\"dataframe\">\n",
              "  <thead>\n",
              "    <tr style=\"text-align: right;\">\n",
              "      <th></th>\n",
              "      <th>longitude</th>\n",
              "      <th>latitude</th>\n",
              "      <th>housing_median_age</th>\n",
              "      <th>total_rooms</th>\n",
              "      <th>total_bedrooms</th>\n",
              "      <th>population</th>\n",
              "      <th>households</th>\n",
              "      <th>median_income</th>\n",
              "      <th>median_house_value</th>\n",
              "      <th>ocean_proximity</th>\n",
              "    </tr>\n",
              "  </thead>\n",
              "  <tbody>\n",
              "    <tr>\n",
              "      <th>0</th>\n",
              "      <td>-122.23</td>\n",
              "      <td>37.88</td>\n",
              "      <td>41.0</td>\n",
              "      <td>880.0</td>\n",
              "      <td>129.0</td>\n",
              "      <td>322.0</td>\n",
              "      <td>126.0</td>\n",
              "      <td>8.3252</td>\n",
              "      <td>452600.0</td>\n",
              "      <td>NEAR BAY</td>\n",
              "    </tr>\n",
              "    <tr>\n",
              "      <th>1</th>\n",
              "      <td>-122.22</td>\n",
              "      <td>37.86</td>\n",
              "      <td>21.0</td>\n",
              "      <td>7099.0</td>\n",
              "      <td>1106.0</td>\n",
              "      <td>2401.0</td>\n",
              "      <td>1138.0</td>\n",
              "      <td>8.3014</td>\n",
              "      <td>358500.0</td>\n",
              "      <td>NEAR BAY</td>\n",
              "    </tr>\n",
              "    <tr>\n",
              "      <th>2</th>\n",
              "      <td>-122.24</td>\n",
              "      <td>37.85</td>\n",
              "      <td>52.0</td>\n",
              "      <td>1467.0</td>\n",
              "      <td>190.0</td>\n",
              "      <td>496.0</td>\n",
              "      <td>177.0</td>\n",
              "      <td>7.2574</td>\n",
              "      <td>352100.0</td>\n",
              "      <td>NEAR BAY</td>\n",
              "    </tr>\n",
              "    <tr>\n",
              "      <th>3</th>\n",
              "      <td>-122.25</td>\n",
              "      <td>37.85</td>\n",
              "      <td>52.0</td>\n",
              "      <td>1274.0</td>\n",
              "      <td>235.0</td>\n",
              "      <td>558.0</td>\n",
              "      <td>219.0</td>\n",
              "      <td>5.6431</td>\n",
              "      <td>341300.0</td>\n",
              "      <td>NEAR BAY</td>\n",
              "    </tr>\n",
              "    <tr>\n",
              "      <th>4</th>\n",
              "      <td>-122.25</td>\n",
              "      <td>37.85</td>\n",
              "      <td>52.0</td>\n",
              "      <td>1627.0</td>\n",
              "      <td>280.0</td>\n",
              "      <td>565.0</td>\n",
              "      <td>259.0</td>\n",
              "      <td>3.8462</td>\n",
              "      <td>342200.0</td>\n",
              "      <td>NEAR BAY</td>\n",
              "    </tr>\n",
              "  </tbody>\n",
              "</table>\n",
              "</div>\n",
              "      <button class=\"colab-df-convert\" onclick=\"convertToInteractive('df-884a516d-7616-4315-9e9a-222d32fadeb8')\"\n",
              "              title=\"Convert this dataframe to an interactive table.\"\n",
              "              style=\"display:none;\">\n",
              "        \n",
              "  <svg xmlns=\"http://www.w3.org/2000/svg\" height=\"24px\"viewBox=\"0 0 24 24\"\n",
              "       width=\"24px\">\n",
              "    <path d=\"M0 0h24v24H0V0z\" fill=\"none\"/>\n",
              "    <path d=\"M18.56 5.44l.94 2.06.94-2.06 2.06-.94-2.06-.94-.94-2.06-.94 2.06-2.06.94zm-11 1L8.5 8.5l.94-2.06 2.06-.94-2.06-.94L8.5 2.5l-.94 2.06-2.06.94zm10 10l.94 2.06.94-2.06 2.06-.94-2.06-.94-.94-2.06-.94 2.06-2.06.94z\"/><path d=\"M17.41 7.96l-1.37-1.37c-.4-.4-.92-.59-1.43-.59-.52 0-1.04.2-1.43.59L10.3 9.45l-7.72 7.72c-.78.78-.78 2.05 0 2.83L4 21.41c.39.39.9.59 1.41.59.51 0 1.02-.2 1.41-.59l7.78-7.78 2.81-2.81c.8-.78.8-2.07 0-2.86zM5.41 20L4 18.59l7.72-7.72 1.47 1.35L5.41 20z\"/>\n",
              "  </svg>\n",
              "      </button>\n",
              "      \n",
              "  <style>\n",
              "    .colab-df-container {\n",
              "      display:flex;\n",
              "      flex-wrap:wrap;\n",
              "      gap: 12px;\n",
              "    }\n",
              "\n",
              "    .colab-df-convert {\n",
              "      background-color: #E8F0FE;\n",
              "      border: none;\n",
              "      border-radius: 50%;\n",
              "      cursor: pointer;\n",
              "      display: none;\n",
              "      fill: #1967D2;\n",
              "      height: 32px;\n",
              "      padding: 0 0 0 0;\n",
              "      width: 32px;\n",
              "    }\n",
              "\n",
              "    .colab-df-convert:hover {\n",
              "      background-color: #E2EBFA;\n",
              "      box-shadow: 0px 1px 2px rgba(60, 64, 67, 0.3), 0px 1px 3px 1px rgba(60, 64, 67, 0.15);\n",
              "      fill: #174EA6;\n",
              "    }\n",
              "\n",
              "    [theme=dark] .colab-df-convert {\n",
              "      background-color: #3B4455;\n",
              "      fill: #D2E3FC;\n",
              "    }\n",
              "\n",
              "    [theme=dark] .colab-df-convert:hover {\n",
              "      background-color: #434B5C;\n",
              "      box-shadow: 0px 1px 3px 1px rgba(0, 0, 0, 0.15);\n",
              "      filter: drop-shadow(0px 1px 2px rgba(0, 0, 0, 0.3));\n",
              "      fill: #FFFFFF;\n",
              "    }\n",
              "  </style>\n",
              "\n",
              "      <script>\n",
              "        const buttonEl =\n",
              "          document.querySelector('#df-884a516d-7616-4315-9e9a-222d32fadeb8 button.colab-df-convert');\n",
              "        buttonEl.style.display =\n",
              "          google.colab.kernel.accessAllowed ? 'block' : 'none';\n",
              "\n",
              "        async function convertToInteractive(key) {\n",
              "          const element = document.querySelector('#df-884a516d-7616-4315-9e9a-222d32fadeb8');\n",
              "          const dataTable =\n",
              "            await google.colab.kernel.invokeFunction('convertToInteractive',\n",
              "                                                     [key], {});\n",
              "          if (!dataTable) return;\n",
              "\n",
              "          const docLinkHtml = 'Like what you see? Visit the ' +\n",
              "            '<a target=\"_blank\" href=https://colab.research.google.com/notebooks/data_table.ipynb>data table notebook</a>'\n",
              "            + ' to learn more about interactive tables.';\n",
              "          element.innerHTML = '';\n",
              "          dataTable['output_type'] = 'display_data';\n",
              "          await google.colab.output.renderOutput(dataTable, element);\n",
              "          const docLink = document.createElement('div');\n",
              "          docLink.innerHTML = docLinkHtml;\n",
              "          element.appendChild(docLink);\n",
              "        }\n",
              "      </script>\n",
              "    </div>\n",
              "  </div>\n",
              "  "
            ]
          },
          "metadata": {},
          "execution_count": 3
        }
      ]
    },
    {
      "cell_type": "code",
      "source": [
        "df.shape"
      ],
      "metadata": {
        "colab": {
          "base_uri": "https://localhost:8080/"
        },
        "id": "8pxxW2qrCza_",
        "outputId": "66ed1025-42b0-4d6a-8488-b6a8bf00699e"
      },
      "execution_count": 4,
      "outputs": [
        {
          "output_type": "execute_result",
          "data": {
            "text/plain": [
              "(20640, 10)"
            ]
          },
          "metadata": {},
          "execution_count": 4
        }
      ]
    },
    {
      "cell_type": "markdown",
      "source": [
        "OBSERVATIONS: there are 10 features and 20,640 records"
      ],
      "metadata": {
        "id": "3OruulPYC7jw"
      }
    },
    {
      "cell_type": "code",
      "source": [
        "df.info()"
      ],
      "metadata": {
        "colab": {
          "base_uri": "https://localhost:8080/"
        },
        "id": "1Ey1xKo0C5K9",
        "outputId": "79f79c83-4fe5-4573-a746-6a5eebdda75d"
      },
      "execution_count": 5,
      "outputs": [
        {
          "output_type": "stream",
          "name": "stdout",
          "text": [
            "<class 'pandas.core.frame.DataFrame'>\n",
            "RangeIndex: 20640 entries, 0 to 20639\n",
            "Data columns (total 10 columns):\n",
            " #   Column              Non-Null Count  Dtype  \n",
            "---  ------              --------------  -----  \n",
            " 0   longitude           20640 non-null  float64\n",
            " 1   latitude            20640 non-null  float64\n",
            " 2   housing_median_age  20640 non-null  float64\n",
            " 3   total_rooms         20640 non-null  float64\n",
            " 4   total_bedrooms      20433 non-null  float64\n",
            " 5   population          20640 non-null  float64\n",
            " 6   households          20640 non-null  float64\n",
            " 7   median_income       20640 non-null  float64\n",
            " 8   median_house_value  20640 non-null  float64\n",
            " 9   ocean_proximity     20640 non-null  object \n",
            "dtypes: float64(9), object(1)\n",
            "memory usage: 1.6+ MB\n"
          ]
        }
      ]
    },
    {
      "cell_type": "markdown",
      "source": [
        "**Checking Null or Missing Values**"
      ],
      "metadata": {
        "id": "VILhGXtcDmvL"
      }
    },
    {
      "cell_type": "code",
      "source": [
        "df.isna().sum()"
      ],
      "metadata": {
        "colab": {
          "base_uri": "https://localhost:8080/"
        },
        "id": "hFF_EajbDQRS",
        "outputId": "51a08917-88a4-43a7-afd4-3beeef7a7008"
      },
      "execution_count": 6,
      "outputs": [
        {
          "output_type": "execute_result",
          "data": {
            "text/plain": [
              "longitude               0\n",
              "latitude                0\n",
              "housing_median_age      0\n",
              "total_rooms             0\n",
              "total_bedrooms        207\n",
              "population              0\n",
              "households              0\n",
              "median_income           0\n",
              "median_house_value      0\n",
              "ocean_proximity         0\n",
              "dtype: int64"
            ]
          },
          "metadata": {},
          "execution_count": 6
        }
      ]
    },
    {
      "cell_type": "markdown",
      "source": [
        "There are only 207 missing values in the total_bedrooms column, so we can drop them"
      ],
      "metadata": {
        "id": "6gy8qhVvD1H_"
      }
    },
    {
      "cell_type": "code",
      "source": [
        "df.dropna(inplace=True)"
      ],
      "metadata": {
        "id": "5qkpsoeEDuWn"
      },
      "execution_count": 7,
      "outputs": []
    },
    {
      "cell_type": "code",
      "source": [
        "df.shape"
      ],
      "metadata": {
        "colab": {
          "base_uri": "https://localhost:8080/"
        },
        "id": "pQYgGhY-F73W",
        "outputId": "2312fad3-a7d5-482f-cbcd-c339ae211a14"
      },
      "execution_count": 8,
      "outputs": [
        {
          "output_type": "execute_result",
          "data": {
            "text/plain": [
              "(20433, 10)"
            ]
          },
          "metadata": {},
          "execution_count": 8
        }
      ]
    },
    {
      "cell_type": "markdown",
      "source": [
        "Now there are 20,433 records and 10 features"
      ],
      "metadata": {
        "id": "STcy0X5oEFuz"
      }
    },
    {
      "cell_type": "code",
      "source": [
        "# Checking the number of different/unique values in Ocean Proximity column \n",
        "df['ocean_proximity'].value_counts()"
      ],
      "metadata": {
        "colab": {
          "base_uri": "https://localhost:8080/"
        },
        "id": "VHho_U6KEDom",
        "outputId": "be008400-89c2-4665-f947-4aa0989cd80e"
      },
      "execution_count": 9,
      "outputs": [
        {
          "output_type": "execute_result",
          "data": {
            "text/plain": [
              "<1H OCEAN     9034\n",
              "INLAND        6496\n",
              "NEAR OCEAN    2628\n",
              "NEAR BAY      2270\n",
              "ISLAND           5\n",
              "Name: ocean_proximity, dtype: int64"
            ]
          },
          "metadata": {},
          "execution_count": 9
        }
      ]
    },
    {
      "cell_type": "markdown",
      "source": [
        "There are 5 categories in the Ocean proximity namely <1h Ocean, Inland, Near Ocean,Near Bay and Island"
      ],
      "metadata": {
        "id": "zNPNTkA9Er57"
      }
    },
    {
      "cell_type": "code",
      "source": [
        "# OneHotEncoding in Categorical Column\n",
        "Ocean_Proximity=pd.get_dummies(df['ocean_proximity'],drop_first=True)"
      ],
      "metadata": {
        "id": "0dv54UBdEnGp"
      },
      "execution_count": 10,
      "outputs": []
    },
    {
      "cell_type": "code",
      "source": [
        "Ocean_Proximity"
      ],
      "metadata": {
        "colab": {
          "base_uri": "https://localhost:8080/",
          "height": 424
        },
        "id": "-euT98dGFsRp",
        "outputId": "1e29e6e7-c136-43de-cc33-4b0bcb0e8270"
      },
      "execution_count": 11,
      "outputs": [
        {
          "output_type": "execute_result",
          "data": {
            "text/plain": [
              "       INLAND  ISLAND  NEAR BAY  NEAR OCEAN\n",
              "0           0       0         1           0\n",
              "1           0       0         1           0\n",
              "2           0       0         1           0\n",
              "3           0       0         1           0\n",
              "4           0       0         1           0\n",
              "...       ...     ...       ...         ...\n",
              "20635       1       0         0           0\n",
              "20636       1       0         0           0\n",
              "20637       1       0         0           0\n",
              "20638       1       0         0           0\n",
              "20639       1       0         0           0\n",
              "\n",
              "[20433 rows x 4 columns]"
            ],
            "text/html": [
              "\n",
              "  <div id=\"df-f3d5665a-4d5b-40f8-8db1-a4f5590941dd\">\n",
              "    <div class=\"colab-df-container\">\n",
              "      <div>\n",
              "<style scoped>\n",
              "    .dataframe tbody tr th:only-of-type {\n",
              "        vertical-align: middle;\n",
              "    }\n",
              "\n",
              "    .dataframe tbody tr th {\n",
              "        vertical-align: top;\n",
              "    }\n",
              "\n",
              "    .dataframe thead th {\n",
              "        text-align: right;\n",
              "    }\n",
              "</style>\n",
              "<table border=\"1\" class=\"dataframe\">\n",
              "  <thead>\n",
              "    <tr style=\"text-align: right;\">\n",
              "      <th></th>\n",
              "      <th>INLAND</th>\n",
              "      <th>ISLAND</th>\n",
              "      <th>NEAR BAY</th>\n",
              "      <th>NEAR OCEAN</th>\n",
              "    </tr>\n",
              "  </thead>\n",
              "  <tbody>\n",
              "    <tr>\n",
              "      <th>0</th>\n",
              "      <td>0</td>\n",
              "      <td>0</td>\n",
              "      <td>1</td>\n",
              "      <td>0</td>\n",
              "    </tr>\n",
              "    <tr>\n",
              "      <th>1</th>\n",
              "      <td>0</td>\n",
              "      <td>0</td>\n",
              "      <td>1</td>\n",
              "      <td>0</td>\n",
              "    </tr>\n",
              "    <tr>\n",
              "      <th>2</th>\n",
              "      <td>0</td>\n",
              "      <td>0</td>\n",
              "      <td>1</td>\n",
              "      <td>0</td>\n",
              "    </tr>\n",
              "    <tr>\n",
              "      <th>3</th>\n",
              "      <td>0</td>\n",
              "      <td>0</td>\n",
              "      <td>1</td>\n",
              "      <td>0</td>\n",
              "    </tr>\n",
              "    <tr>\n",
              "      <th>4</th>\n",
              "      <td>0</td>\n",
              "      <td>0</td>\n",
              "      <td>1</td>\n",
              "      <td>0</td>\n",
              "    </tr>\n",
              "    <tr>\n",
              "      <th>...</th>\n",
              "      <td>...</td>\n",
              "      <td>...</td>\n",
              "      <td>...</td>\n",
              "      <td>...</td>\n",
              "    </tr>\n",
              "    <tr>\n",
              "      <th>20635</th>\n",
              "      <td>1</td>\n",
              "      <td>0</td>\n",
              "      <td>0</td>\n",
              "      <td>0</td>\n",
              "    </tr>\n",
              "    <tr>\n",
              "      <th>20636</th>\n",
              "      <td>1</td>\n",
              "      <td>0</td>\n",
              "      <td>0</td>\n",
              "      <td>0</td>\n",
              "    </tr>\n",
              "    <tr>\n",
              "      <th>20637</th>\n",
              "      <td>1</td>\n",
              "      <td>0</td>\n",
              "      <td>0</td>\n",
              "      <td>0</td>\n",
              "    </tr>\n",
              "    <tr>\n",
              "      <th>20638</th>\n",
              "      <td>1</td>\n",
              "      <td>0</td>\n",
              "      <td>0</td>\n",
              "      <td>0</td>\n",
              "    </tr>\n",
              "    <tr>\n",
              "      <th>20639</th>\n",
              "      <td>1</td>\n",
              "      <td>0</td>\n",
              "      <td>0</td>\n",
              "      <td>0</td>\n",
              "    </tr>\n",
              "  </tbody>\n",
              "</table>\n",
              "<p>20433 rows × 4 columns</p>\n",
              "</div>\n",
              "      <button class=\"colab-df-convert\" onclick=\"convertToInteractive('df-f3d5665a-4d5b-40f8-8db1-a4f5590941dd')\"\n",
              "              title=\"Convert this dataframe to an interactive table.\"\n",
              "              style=\"display:none;\">\n",
              "        \n",
              "  <svg xmlns=\"http://www.w3.org/2000/svg\" height=\"24px\"viewBox=\"0 0 24 24\"\n",
              "       width=\"24px\">\n",
              "    <path d=\"M0 0h24v24H0V0z\" fill=\"none\"/>\n",
              "    <path d=\"M18.56 5.44l.94 2.06.94-2.06 2.06-.94-2.06-.94-.94-2.06-.94 2.06-2.06.94zm-11 1L8.5 8.5l.94-2.06 2.06-.94-2.06-.94L8.5 2.5l-.94 2.06-2.06.94zm10 10l.94 2.06.94-2.06 2.06-.94-2.06-.94-.94-2.06-.94 2.06-2.06.94z\"/><path d=\"M17.41 7.96l-1.37-1.37c-.4-.4-.92-.59-1.43-.59-.52 0-1.04.2-1.43.59L10.3 9.45l-7.72 7.72c-.78.78-.78 2.05 0 2.83L4 21.41c.39.39.9.59 1.41.59.51 0 1.02-.2 1.41-.59l7.78-7.78 2.81-2.81c.8-.78.8-2.07 0-2.86zM5.41 20L4 18.59l7.72-7.72 1.47 1.35L5.41 20z\"/>\n",
              "  </svg>\n",
              "      </button>\n",
              "      \n",
              "  <style>\n",
              "    .colab-df-container {\n",
              "      display:flex;\n",
              "      flex-wrap:wrap;\n",
              "      gap: 12px;\n",
              "    }\n",
              "\n",
              "    .colab-df-convert {\n",
              "      background-color: #E8F0FE;\n",
              "      border: none;\n",
              "      border-radius: 50%;\n",
              "      cursor: pointer;\n",
              "      display: none;\n",
              "      fill: #1967D2;\n",
              "      height: 32px;\n",
              "      padding: 0 0 0 0;\n",
              "      width: 32px;\n",
              "    }\n",
              "\n",
              "    .colab-df-convert:hover {\n",
              "      background-color: #E2EBFA;\n",
              "      box-shadow: 0px 1px 2px rgba(60, 64, 67, 0.3), 0px 1px 3px 1px rgba(60, 64, 67, 0.15);\n",
              "      fill: #174EA6;\n",
              "    }\n",
              "\n",
              "    [theme=dark] .colab-df-convert {\n",
              "      background-color: #3B4455;\n",
              "      fill: #D2E3FC;\n",
              "    }\n",
              "\n",
              "    [theme=dark] .colab-df-convert:hover {\n",
              "      background-color: #434B5C;\n",
              "      box-shadow: 0px 1px 3px 1px rgba(0, 0, 0, 0.15);\n",
              "      filter: drop-shadow(0px 1px 2px rgba(0, 0, 0, 0.3));\n",
              "      fill: #FFFFFF;\n",
              "    }\n",
              "  </style>\n",
              "\n",
              "      <script>\n",
              "        const buttonEl =\n",
              "          document.querySelector('#df-f3d5665a-4d5b-40f8-8db1-a4f5590941dd button.colab-df-convert');\n",
              "        buttonEl.style.display =\n",
              "          google.colab.kernel.accessAllowed ? 'block' : 'none';\n",
              "\n",
              "        async function convertToInteractive(key) {\n",
              "          const element = document.querySelector('#df-f3d5665a-4d5b-40f8-8db1-a4f5590941dd');\n",
              "          const dataTable =\n",
              "            await google.colab.kernel.invokeFunction('convertToInteractive',\n",
              "                                                     [key], {});\n",
              "          if (!dataTable) return;\n",
              "\n",
              "          const docLinkHtml = 'Like what you see? Visit the ' +\n",
              "            '<a target=\"_blank\" href=https://colab.research.google.com/notebooks/data_table.ipynb>data table notebook</a>'\n",
              "            + ' to learn more about interactive tables.';\n",
              "          element.innerHTML = '';\n",
              "          dataTable['output_type'] = 'display_data';\n",
              "          await google.colab.output.renderOutput(dataTable, element);\n",
              "          const docLink = document.createElement('div');\n",
              "          docLink.innerHTML = docLinkHtml;\n",
              "          element.appendChild(docLink);\n",
              "        }\n",
              "      </script>\n",
              "    </div>\n",
              "  </div>\n",
              "  "
            ]
          },
          "metadata": {},
          "execution_count": 11
        }
      ]
    },
    {
      "cell_type": "code",
      "source": [
        "# Dropping the ocean_proximity from the dataset\n",
        "df.drop(columns=['ocean_proximity'],axis=1,inplace=True)"
      ],
      "metadata": {
        "id": "ixZL0no3FuNN"
      },
      "execution_count": 12,
      "outputs": []
    },
    {
      "cell_type": "code",
      "source": [
        "# Concatenate the Ocean Proximity column in the dataset\n",
        "df=pd.concat([df,Ocean_Proximity],axis=1)"
      ],
      "metadata": {
        "id": "uFoSjpTiGXfv"
      },
      "execution_count": 13,
      "outputs": []
    },
    {
      "cell_type": "code",
      "source": [
        "df.head()"
      ],
      "metadata": {
        "colab": {
          "base_uri": "https://localhost:8080/",
          "height": 288
        },
        "id": "oUO_HLlwGyuk",
        "outputId": "7be5d878-444a-4388-dddd-3808a7275673"
      },
      "execution_count": 14,
      "outputs": [
        {
          "output_type": "execute_result",
          "data": {
            "text/plain": [
              "   longitude  latitude  housing_median_age  total_rooms  total_bedrooms  \\\n",
              "0    -122.23     37.88                41.0        880.0           129.0   \n",
              "1    -122.22     37.86                21.0       7099.0          1106.0   \n",
              "2    -122.24     37.85                52.0       1467.0           190.0   \n",
              "3    -122.25     37.85                52.0       1274.0           235.0   \n",
              "4    -122.25     37.85                52.0       1627.0           280.0   \n",
              "\n",
              "   population  households  median_income  median_house_value  INLAND  ISLAND  \\\n",
              "0       322.0       126.0         8.3252            452600.0       0       0   \n",
              "1      2401.0      1138.0         8.3014            358500.0       0       0   \n",
              "2       496.0       177.0         7.2574            352100.0       0       0   \n",
              "3       558.0       219.0         5.6431            341300.0       0       0   \n",
              "4       565.0       259.0         3.8462            342200.0       0       0   \n",
              "\n",
              "   NEAR BAY  NEAR OCEAN  \n",
              "0         1           0  \n",
              "1         1           0  \n",
              "2         1           0  \n",
              "3         1           0  \n",
              "4         1           0  "
            ],
            "text/html": [
              "\n",
              "  <div id=\"df-335284f3-d77b-4fdd-8fd9-352ec27b519b\">\n",
              "    <div class=\"colab-df-container\">\n",
              "      <div>\n",
              "<style scoped>\n",
              "    .dataframe tbody tr th:only-of-type {\n",
              "        vertical-align: middle;\n",
              "    }\n",
              "\n",
              "    .dataframe tbody tr th {\n",
              "        vertical-align: top;\n",
              "    }\n",
              "\n",
              "    .dataframe thead th {\n",
              "        text-align: right;\n",
              "    }\n",
              "</style>\n",
              "<table border=\"1\" class=\"dataframe\">\n",
              "  <thead>\n",
              "    <tr style=\"text-align: right;\">\n",
              "      <th></th>\n",
              "      <th>longitude</th>\n",
              "      <th>latitude</th>\n",
              "      <th>housing_median_age</th>\n",
              "      <th>total_rooms</th>\n",
              "      <th>total_bedrooms</th>\n",
              "      <th>population</th>\n",
              "      <th>households</th>\n",
              "      <th>median_income</th>\n",
              "      <th>median_house_value</th>\n",
              "      <th>INLAND</th>\n",
              "      <th>ISLAND</th>\n",
              "      <th>NEAR BAY</th>\n",
              "      <th>NEAR OCEAN</th>\n",
              "    </tr>\n",
              "  </thead>\n",
              "  <tbody>\n",
              "    <tr>\n",
              "      <th>0</th>\n",
              "      <td>-122.23</td>\n",
              "      <td>37.88</td>\n",
              "      <td>41.0</td>\n",
              "      <td>880.0</td>\n",
              "      <td>129.0</td>\n",
              "      <td>322.0</td>\n",
              "      <td>126.0</td>\n",
              "      <td>8.3252</td>\n",
              "      <td>452600.0</td>\n",
              "      <td>0</td>\n",
              "      <td>0</td>\n",
              "      <td>1</td>\n",
              "      <td>0</td>\n",
              "    </tr>\n",
              "    <tr>\n",
              "      <th>1</th>\n",
              "      <td>-122.22</td>\n",
              "      <td>37.86</td>\n",
              "      <td>21.0</td>\n",
              "      <td>7099.0</td>\n",
              "      <td>1106.0</td>\n",
              "      <td>2401.0</td>\n",
              "      <td>1138.0</td>\n",
              "      <td>8.3014</td>\n",
              "      <td>358500.0</td>\n",
              "      <td>0</td>\n",
              "      <td>0</td>\n",
              "      <td>1</td>\n",
              "      <td>0</td>\n",
              "    </tr>\n",
              "    <tr>\n",
              "      <th>2</th>\n",
              "      <td>-122.24</td>\n",
              "      <td>37.85</td>\n",
              "      <td>52.0</td>\n",
              "      <td>1467.0</td>\n",
              "      <td>190.0</td>\n",
              "      <td>496.0</td>\n",
              "      <td>177.0</td>\n",
              "      <td>7.2574</td>\n",
              "      <td>352100.0</td>\n",
              "      <td>0</td>\n",
              "      <td>0</td>\n",
              "      <td>1</td>\n",
              "      <td>0</td>\n",
              "    </tr>\n",
              "    <tr>\n",
              "      <th>3</th>\n",
              "      <td>-122.25</td>\n",
              "      <td>37.85</td>\n",
              "      <td>52.0</td>\n",
              "      <td>1274.0</td>\n",
              "      <td>235.0</td>\n",
              "      <td>558.0</td>\n",
              "      <td>219.0</td>\n",
              "      <td>5.6431</td>\n",
              "      <td>341300.0</td>\n",
              "      <td>0</td>\n",
              "      <td>0</td>\n",
              "      <td>1</td>\n",
              "      <td>0</td>\n",
              "    </tr>\n",
              "    <tr>\n",
              "      <th>4</th>\n",
              "      <td>-122.25</td>\n",
              "      <td>37.85</td>\n",
              "      <td>52.0</td>\n",
              "      <td>1627.0</td>\n",
              "      <td>280.0</td>\n",
              "      <td>565.0</td>\n",
              "      <td>259.0</td>\n",
              "      <td>3.8462</td>\n",
              "      <td>342200.0</td>\n",
              "      <td>0</td>\n",
              "      <td>0</td>\n",
              "      <td>1</td>\n",
              "      <td>0</td>\n",
              "    </tr>\n",
              "  </tbody>\n",
              "</table>\n",
              "</div>\n",
              "      <button class=\"colab-df-convert\" onclick=\"convertToInteractive('df-335284f3-d77b-4fdd-8fd9-352ec27b519b')\"\n",
              "              title=\"Convert this dataframe to an interactive table.\"\n",
              "              style=\"display:none;\">\n",
              "        \n",
              "  <svg xmlns=\"http://www.w3.org/2000/svg\" height=\"24px\"viewBox=\"0 0 24 24\"\n",
              "       width=\"24px\">\n",
              "    <path d=\"M0 0h24v24H0V0z\" fill=\"none\"/>\n",
              "    <path d=\"M18.56 5.44l.94 2.06.94-2.06 2.06-.94-2.06-.94-.94-2.06-.94 2.06-2.06.94zm-11 1L8.5 8.5l.94-2.06 2.06-.94-2.06-.94L8.5 2.5l-.94 2.06-2.06.94zm10 10l.94 2.06.94-2.06 2.06-.94-2.06-.94-.94-2.06-.94 2.06-2.06.94z\"/><path d=\"M17.41 7.96l-1.37-1.37c-.4-.4-.92-.59-1.43-.59-.52 0-1.04.2-1.43.59L10.3 9.45l-7.72 7.72c-.78.78-.78 2.05 0 2.83L4 21.41c.39.39.9.59 1.41.59.51 0 1.02-.2 1.41-.59l7.78-7.78 2.81-2.81c.8-.78.8-2.07 0-2.86zM5.41 20L4 18.59l7.72-7.72 1.47 1.35L5.41 20z\"/>\n",
              "  </svg>\n",
              "      </button>\n",
              "      \n",
              "  <style>\n",
              "    .colab-df-container {\n",
              "      display:flex;\n",
              "      flex-wrap:wrap;\n",
              "      gap: 12px;\n",
              "    }\n",
              "\n",
              "    .colab-df-convert {\n",
              "      background-color: #E8F0FE;\n",
              "      border: none;\n",
              "      border-radius: 50%;\n",
              "      cursor: pointer;\n",
              "      display: none;\n",
              "      fill: #1967D2;\n",
              "      height: 32px;\n",
              "      padding: 0 0 0 0;\n",
              "      width: 32px;\n",
              "    }\n",
              "\n",
              "    .colab-df-convert:hover {\n",
              "      background-color: #E2EBFA;\n",
              "      box-shadow: 0px 1px 2px rgba(60, 64, 67, 0.3), 0px 1px 3px 1px rgba(60, 64, 67, 0.15);\n",
              "      fill: #174EA6;\n",
              "    }\n",
              "\n",
              "    [theme=dark] .colab-df-convert {\n",
              "      background-color: #3B4455;\n",
              "      fill: #D2E3FC;\n",
              "    }\n",
              "\n",
              "    [theme=dark] .colab-df-convert:hover {\n",
              "      background-color: #434B5C;\n",
              "      box-shadow: 0px 1px 3px 1px rgba(0, 0, 0, 0.15);\n",
              "      filter: drop-shadow(0px 1px 2px rgba(0, 0, 0, 0.3));\n",
              "      fill: #FFFFFF;\n",
              "    }\n",
              "  </style>\n",
              "\n",
              "      <script>\n",
              "        const buttonEl =\n",
              "          document.querySelector('#df-335284f3-d77b-4fdd-8fd9-352ec27b519b button.colab-df-convert');\n",
              "        buttonEl.style.display =\n",
              "          google.colab.kernel.accessAllowed ? 'block' : 'none';\n",
              "\n",
              "        async function convertToInteractive(key) {\n",
              "          const element = document.querySelector('#df-335284f3-d77b-4fdd-8fd9-352ec27b519b');\n",
              "          const dataTable =\n",
              "            await google.colab.kernel.invokeFunction('convertToInteractive',\n",
              "                                                     [key], {});\n",
              "          if (!dataTable) return;\n",
              "\n",
              "          const docLinkHtml = 'Like what you see? Visit the ' +\n",
              "            '<a target=\"_blank\" href=https://colab.research.google.com/notebooks/data_table.ipynb>data table notebook</a>'\n",
              "            + ' to learn more about interactive tables.';\n",
              "          element.innerHTML = '';\n",
              "          dataTable['output_type'] = 'display_data';\n",
              "          await google.colab.output.renderOutput(dataTable, element);\n",
              "          const docLink = document.createElement('div');\n",
              "          docLink.innerHTML = docLinkHtml;\n",
              "          element.appendChild(docLink);\n",
              "        }\n",
              "      </script>\n",
              "    </div>\n",
              "  </div>\n",
              "  "
            ]
          },
          "metadata": {},
          "execution_count": 14
        }
      ]
    },
    {
      "cell_type": "code",
      "source": [
        "df.shape"
      ],
      "metadata": {
        "colab": {
          "base_uri": "https://localhost:8080/"
        },
        "id": "g22g8laKG2PI",
        "outputId": "9f2f8b4b-8612-4db8-bd27-bda268e981ef"
      },
      "execution_count": 15,
      "outputs": [
        {
          "output_type": "execute_result",
          "data": {
            "text/plain": [
              "(20433, 13)"
            ]
          },
          "metadata": {},
          "execution_count": 15
        }
      ]
    },
    {
      "cell_type": "markdown",
      "source": [
        "Now there are 13 columns and 20,433 records"
      ],
      "metadata": {
        "id": "cTIZWz0aG7rL"
      }
    },
    {
      "cell_type": "code",
      "source": [
        "df.info()"
      ],
      "metadata": {
        "colab": {
          "base_uri": "https://localhost:8080/"
        },
        "id": "dDhXjWEMG6TZ",
        "outputId": "3b303450-5481-4276-9acb-5a3c796fb1bd"
      },
      "execution_count": 16,
      "outputs": [
        {
          "output_type": "stream",
          "name": "stdout",
          "text": [
            "<class 'pandas.core.frame.DataFrame'>\n",
            "Int64Index: 20433 entries, 0 to 20639\n",
            "Data columns (total 13 columns):\n",
            " #   Column              Non-Null Count  Dtype  \n",
            "---  ------              --------------  -----  \n",
            " 0   longitude           20433 non-null  float64\n",
            " 1   latitude            20433 non-null  float64\n",
            " 2   housing_median_age  20433 non-null  float64\n",
            " 3   total_rooms         20433 non-null  float64\n",
            " 4   total_bedrooms      20433 non-null  float64\n",
            " 5   population          20433 non-null  float64\n",
            " 6   households          20433 non-null  float64\n",
            " 7   median_income       20433 non-null  float64\n",
            " 8   median_house_value  20433 non-null  float64\n",
            " 9   INLAND              20433 non-null  uint8  \n",
            " 10  ISLAND              20433 non-null  uint8  \n",
            " 11  NEAR BAY            20433 non-null  uint8  \n",
            " 12  NEAR OCEAN          20433 non-null  uint8  \n",
            "dtypes: float64(9), uint8(4)\n",
            "memory usage: 1.6 MB\n"
          ]
        }
      ]
    },
    {
      "cell_type": "markdown",
      "source": [
        "Now all the columns are numerical and we can use this dataset for Model Training"
      ],
      "metadata": {
        "id": "nv8v6JDvHC7M"
      }
    },
    {
      "cell_type": "markdown",
      "source": [
        "**Separating dependent and Independent columns**"
      ],
      "metadata": {
        "id": "Q7s57e2jHKtt"
      }
    },
    {
      "cell_type": "code",
      "source": [
        "X=df.drop('median_house_value',axis=True)\n",
        "y=df['median_house_value']"
      ],
      "metadata": {
        "id": "96Ac9DmHHAmn"
      },
      "execution_count": 17,
      "outputs": []
    },
    {
      "cell_type": "code",
      "source": [
        "X.head()"
      ],
      "metadata": {
        "colab": {
          "base_uri": "https://localhost:8080/",
          "height": 288
        },
        "id": "kFSYnu5XHaEE",
        "outputId": "1cbec543-0663-44be-cae5-57e4af29a3fb"
      },
      "execution_count": 18,
      "outputs": [
        {
          "output_type": "execute_result",
          "data": {
            "text/plain": [
              "   longitude  latitude  housing_median_age  total_rooms  total_bedrooms  \\\n",
              "0    -122.23     37.88                41.0        880.0           129.0   \n",
              "1    -122.22     37.86                21.0       7099.0          1106.0   \n",
              "2    -122.24     37.85                52.0       1467.0           190.0   \n",
              "3    -122.25     37.85                52.0       1274.0           235.0   \n",
              "4    -122.25     37.85                52.0       1627.0           280.0   \n",
              "\n",
              "   population  households  median_income  INLAND  ISLAND  NEAR BAY  NEAR OCEAN  \n",
              "0       322.0       126.0         8.3252       0       0         1           0  \n",
              "1      2401.0      1138.0         8.3014       0       0         1           0  \n",
              "2       496.0       177.0         7.2574       0       0         1           0  \n",
              "3       558.0       219.0         5.6431       0       0         1           0  \n",
              "4       565.0       259.0         3.8462       0       0         1           0  "
            ],
            "text/html": [
              "\n",
              "  <div id=\"df-782552d8-88c3-4117-934f-b09754826899\">\n",
              "    <div class=\"colab-df-container\">\n",
              "      <div>\n",
              "<style scoped>\n",
              "    .dataframe tbody tr th:only-of-type {\n",
              "        vertical-align: middle;\n",
              "    }\n",
              "\n",
              "    .dataframe tbody tr th {\n",
              "        vertical-align: top;\n",
              "    }\n",
              "\n",
              "    .dataframe thead th {\n",
              "        text-align: right;\n",
              "    }\n",
              "</style>\n",
              "<table border=\"1\" class=\"dataframe\">\n",
              "  <thead>\n",
              "    <tr style=\"text-align: right;\">\n",
              "      <th></th>\n",
              "      <th>longitude</th>\n",
              "      <th>latitude</th>\n",
              "      <th>housing_median_age</th>\n",
              "      <th>total_rooms</th>\n",
              "      <th>total_bedrooms</th>\n",
              "      <th>population</th>\n",
              "      <th>households</th>\n",
              "      <th>median_income</th>\n",
              "      <th>INLAND</th>\n",
              "      <th>ISLAND</th>\n",
              "      <th>NEAR BAY</th>\n",
              "      <th>NEAR OCEAN</th>\n",
              "    </tr>\n",
              "  </thead>\n",
              "  <tbody>\n",
              "    <tr>\n",
              "      <th>0</th>\n",
              "      <td>-122.23</td>\n",
              "      <td>37.88</td>\n",
              "      <td>41.0</td>\n",
              "      <td>880.0</td>\n",
              "      <td>129.0</td>\n",
              "      <td>322.0</td>\n",
              "      <td>126.0</td>\n",
              "      <td>8.3252</td>\n",
              "      <td>0</td>\n",
              "      <td>0</td>\n",
              "      <td>1</td>\n",
              "      <td>0</td>\n",
              "    </tr>\n",
              "    <tr>\n",
              "      <th>1</th>\n",
              "      <td>-122.22</td>\n",
              "      <td>37.86</td>\n",
              "      <td>21.0</td>\n",
              "      <td>7099.0</td>\n",
              "      <td>1106.0</td>\n",
              "      <td>2401.0</td>\n",
              "      <td>1138.0</td>\n",
              "      <td>8.3014</td>\n",
              "      <td>0</td>\n",
              "      <td>0</td>\n",
              "      <td>1</td>\n",
              "      <td>0</td>\n",
              "    </tr>\n",
              "    <tr>\n",
              "      <th>2</th>\n",
              "      <td>-122.24</td>\n",
              "      <td>37.85</td>\n",
              "      <td>52.0</td>\n",
              "      <td>1467.0</td>\n",
              "      <td>190.0</td>\n",
              "      <td>496.0</td>\n",
              "      <td>177.0</td>\n",
              "      <td>7.2574</td>\n",
              "      <td>0</td>\n",
              "      <td>0</td>\n",
              "      <td>1</td>\n",
              "      <td>0</td>\n",
              "    </tr>\n",
              "    <tr>\n",
              "      <th>3</th>\n",
              "      <td>-122.25</td>\n",
              "      <td>37.85</td>\n",
              "      <td>52.0</td>\n",
              "      <td>1274.0</td>\n",
              "      <td>235.0</td>\n",
              "      <td>558.0</td>\n",
              "      <td>219.0</td>\n",
              "      <td>5.6431</td>\n",
              "      <td>0</td>\n",
              "      <td>0</td>\n",
              "      <td>1</td>\n",
              "      <td>0</td>\n",
              "    </tr>\n",
              "    <tr>\n",
              "      <th>4</th>\n",
              "      <td>-122.25</td>\n",
              "      <td>37.85</td>\n",
              "      <td>52.0</td>\n",
              "      <td>1627.0</td>\n",
              "      <td>280.0</td>\n",
              "      <td>565.0</td>\n",
              "      <td>259.0</td>\n",
              "      <td>3.8462</td>\n",
              "      <td>0</td>\n",
              "      <td>0</td>\n",
              "      <td>1</td>\n",
              "      <td>0</td>\n",
              "    </tr>\n",
              "  </tbody>\n",
              "</table>\n",
              "</div>\n",
              "      <button class=\"colab-df-convert\" onclick=\"convertToInteractive('df-782552d8-88c3-4117-934f-b09754826899')\"\n",
              "              title=\"Convert this dataframe to an interactive table.\"\n",
              "              style=\"display:none;\">\n",
              "        \n",
              "  <svg xmlns=\"http://www.w3.org/2000/svg\" height=\"24px\"viewBox=\"0 0 24 24\"\n",
              "       width=\"24px\">\n",
              "    <path d=\"M0 0h24v24H0V0z\" fill=\"none\"/>\n",
              "    <path d=\"M18.56 5.44l.94 2.06.94-2.06 2.06-.94-2.06-.94-.94-2.06-.94 2.06-2.06.94zm-11 1L8.5 8.5l.94-2.06 2.06-.94-2.06-.94L8.5 2.5l-.94 2.06-2.06.94zm10 10l.94 2.06.94-2.06 2.06-.94-2.06-.94-.94-2.06-.94 2.06-2.06.94z\"/><path d=\"M17.41 7.96l-1.37-1.37c-.4-.4-.92-.59-1.43-.59-.52 0-1.04.2-1.43.59L10.3 9.45l-7.72 7.72c-.78.78-.78 2.05 0 2.83L4 21.41c.39.39.9.59 1.41.59.51 0 1.02-.2 1.41-.59l7.78-7.78 2.81-2.81c.8-.78.8-2.07 0-2.86zM5.41 20L4 18.59l7.72-7.72 1.47 1.35L5.41 20z\"/>\n",
              "  </svg>\n",
              "      </button>\n",
              "      \n",
              "  <style>\n",
              "    .colab-df-container {\n",
              "      display:flex;\n",
              "      flex-wrap:wrap;\n",
              "      gap: 12px;\n",
              "    }\n",
              "\n",
              "    .colab-df-convert {\n",
              "      background-color: #E8F0FE;\n",
              "      border: none;\n",
              "      border-radius: 50%;\n",
              "      cursor: pointer;\n",
              "      display: none;\n",
              "      fill: #1967D2;\n",
              "      height: 32px;\n",
              "      padding: 0 0 0 0;\n",
              "      width: 32px;\n",
              "    }\n",
              "\n",
              "    .colab-df-convert:hover {\n",
              "      background-color: #E2EBFA;\n",
              "      box-shadow: 0px 1px 2px rgba(60, 64, 67, 0.3), 0px 1px 3px 1px rgba(60, 64, 67, 0.15);\n",
              "      fill: #174EA6;\n",
              "    }\n",
              "\n",
              "    [theme=dark] .colab-df-convert {\n",
              "      background-color: #3B4455;\n",
              "      fill: #D2E3FC;\n",
              "    }\n",
              "\n",
              "    [theme=dark] .colab-df-convert:hover {\n",
              "      background-color: #434B5C;\n",
              "      box-shadow: 0px 1px 3px 1px rgba(0, 0, 0, 0.15);\n",
              "      filter: drop-shadow(0px 1px 2px rgba(0, 0, 0, 0.3));\n",
              "      fill: #FFFFFF;\n",
              "    }\n",
              "  </style>\n",
              "\n",
              "      <script>\n",
              "        const buttonEl =\n",
              "          document.querySelector('#df-782552d8-88c3-4117-934f-b09754826899 button.colab-df-convert');\n",
              "        buttonEl.style.display =\n",
              "          google.colab.kernel.accessAllowed ? 'block' : 'none';\n",
              "\n",
              "        async function convertToInteractive(key) {\n",
              "          const element = document.querySelector('#df-782552d8-88c3-4117-934f-b09754826899');\n",
              "          const dataTable =\n",
              "            await google.colab.kernel.invokeFunction('convertToInteractive',\n",
              "                                                     [key], {});\n",
              "          if (!dataTable) return;\n",
              "\n",
              "          const docLinkHtml = 'Like what you see? Visit the ' +\n",
              "            '<a target=\"_blank\" href=https://colab.research.google.com/notebooks/data_table.ipynb>data table notebook</a>'\n",
              "            + ' to learn more about interactive tables.';\n",
              "          element.innerHTML = '';\n",
              "          dataTable['output_type'] = 'display_data';\n",
              "          await google.colab.output.renderOutput(dataTable, element);\n",
              "          const docLink = document.createElement('div');\n",
              "          docLink.innerHTML = docLinkHtml;\n",
              "          element.appendChild(docLink);\n",
              "        }\n",
              "      </script>\n",
              "    </div>\n",
              "  </div>\n",
              "  "
            ]
          },
          "metadata": {},
          "execution_count": 18
        }
      ]
    },
    {
      "cell_type": "code",
      "source": [
        "X.shape"
      ],
      "metadata": {
        "colab": {
          "base_uri": "https://localhost:8080/"
        },
        "id": "59cOI6sLHjyj",
        "outputId": "ed53e96a-2f8f-4e00-fc1f-7c4a813fa098"
      },
      "execution_count": 19,
      "outputs": [
        {
          "output_type": "execute_result",
          "data": {
            "text/plain": [
              "(20433, 12)"
            ]
          },
          "metadata": {},
          "execution_count": 19
        }
      ]
    },
    {
      "cell_type": "code",
      "source": [
        "y.head()"
      ],
      "metadata": {
        "colab": {
          "base_uri": "https://localhost:8080/"
        },
        "id": "ab9Ye6elHlqy",
        "outputId": "6984d937-a3bd-4f49-ee77-b1d9d40deb28"
      },
      "execution_count": 20,
      "outputs": [
        {
          "output_type": "execute_result",
          "data": {
            "text/plain": [
              "0    452600.0\n",
              "1    358500.0\n",
              "2    352100.0\n",
              "3    341300.0\n",
              "4    342200.0\n",
              "Name: median_house_value, dtype: float64"
            ]
          },
          "metadata": {},
          "execution_count": 20
        }
      ]
    },
    {
      "cell_type": "code",
      "source": [
        "y.shape"
      ],
      "metadata": {
        "colab": {
          "base_uri": "https://localhost:8080/"
        },
        "id": "JOUtdok0Hn44",
        "outputId": "0994463a-6359-4e74-dd67-1027d0a0fa28"
      },
      "execution_count": 21,
      "outputs": [
        {
          "output_type": "execute_result",
          "data": {
            "text/plain": [
              "(20433,)"
            ]
          },
          "metadata": {},
          "execution_count": 21
        }
      ]
    },
    {
      "cell_type": "markdown",
      "source": [
        "**Splitting the dataset into train and test dataset**"
      ],
      "metadata": {
        "id": "uvNTxjg_H2oJ"
      }
    },
    {
      "cell_type": "code",
      "source": [
        ", train_test_split\n",
        "from sklearn.model_selection import train_test_split\n",
        "X_train,X_test,y_train,y_test=train_test_split(X,y,test_size=0.25,random_state=42)"
      ],
      "metadata": {
        "id": "yOsBWSL5Hqyj"
      },
      "execution_count": 22,
      "outputs": []
    },
    {
      "cell_type": "code",
      "source": [
        "print(X_train.shape,X_test.shape,y_train.shape,y_test.shape)"
      ],
      "metadata": {
        "colab": {
          "base_uri": "https://localhost:8080/"
        },
        "id": "SDze9v5dIKjS",
        "outputId": "cc07e627-78e2-4a34-9b53-af402522cc9e"
      },
      "execution_count": 23,
      "outputs": [
        {
          "output_type": "stream",
          "name": "stdout",
          "text": [
            "(15324, 12) (5109, 12) (15324,) (5109,)\n"
          ]
        }
      ]
    },
    {
      "cell_type": "markdown",
      "source": [
        "**Feature Scaling**"
      ],
      "metadata": {
        "id": "mXUXN881IboM"
      }
    },
    {
      "cell_type": "code",
      "source": [
        "from sklearn.preprocessing import StandardScaler\n",
        "scaler=StandardScaler()\n",
        "X_train=scaler.fit_transform(X_train)\n",
        "X_test=scaler.transform(X_test)"
      ],
      "metadata": {
        "id": "VziheCe8IRqe"
      },
      "execution_count": 24,
      "outputs": []
    },
    {
      "cell_type": "markdown",
      "source": [
        "**Now let's create the ANN**"
      ],
      "metadata": {
        "id": "ImCrq0KXJrjK"
      }
    },
    {
      "cell_type": "markdown",
      "source": [
        "- We will build the ANN with 4 layers\n",
        "1. Input layer            \n",
        "2. Hidden layer 1                     \n",
        "3. Hidden layer 2                 \n",
        "4. Output layer\n",
        "\n",
        "- Input layer, Hidden Layer 1 and 2 will have the range between 32 to 512 with a step size of 32\n",
        "- The learning rate will be a hyper parameter and will be picked by the model\n",
        "- Since this is a regression problem statement, so we'll use 'linear' activation function in the output layer\n",
        "- For weight updation we'll use Adam optimizer and the loss function will be Mean Squared Log error\n",
        "\n",
        "\n",
        "\n"
      ],
      "metadata": {
        "id": "zab09vbfJ5sq"
      }
    },
    {
      "cell_type": "code",
      "source": [
        "import tensorflow as tf \n",
        "import keras_tuner as kt\n",
        "from tensorflow.keras import Model\n",
        "from tensorflow.keras.models import Sequential\n",
        "from tensorflow.keras.layers import Dense\n",
        "from tensorflow.keras.layers import LeakyReLU,PReLU,ELU,ReLU\n",
        "from tensorflow.keras.layers import Dropout\n",
        "from tensorflow.keras.losses import MeanSquaredLogarithmicError"
      ],
      "metadata": {
        "id": "fpCig_ChLp8N"
      },
      "execution_count": 25,
      "outputs": []
    },
    {
      "cell_type": "code",
      "source": [
        "msle = MeanSquaredLogarithmicError()\n",
        "\n",
        "\n",
        "def build_annmodel(hp):\n",
        "  model = tf.keras.Sequential()\n",
        "  \n",
        "  units1 = hp.Int('units1', min_value=32, max_value=512, step=32)\n",
        "  units2 = hp.Int('units2', min_value=32, max_value=512, step=32)\n",
        "  units3 = hp.Int('units3', min_value=32, max_value=512, step=32)\n",
        "  model.add(Dense(units=units1, activation='relu'))\n",
        "  model.add(tf.keras.layers.Dense(units=units2, activation='relu'))\n",
        "  model.add(tf.keras.layers.Dense(units=units3, activation='relu'))\n",
        "  model.add(Dense(1, kernel_initializer='normal', activation='linear'))\n",
        "\n",
        "  hp_learning_rate = hp.Choice('learning_rate', values=[1e-2, 1e-3, 1e-4])\n",
        "\n",
        "  model.compile(\n",
        "      optimizer=tf.keras.optimizers.Adam(learning_rate=hp_learning_rate),\n",
        "      loss=msle,\n",
        "      metrics=[msle]\n",
        "  )\n",
        "\n",
        "  return model"
      ],
      "metadata": {
        "id": "61eJePgaWp-8"
      },
      "execution_count": 26,
      "outputs": []
    },
    {
      "cell_type": "code",
      "source": [
        "# HyperBand algorithm from keras tuner\n",
        "tuner = kt.Hyperband(\n",
        "    build_annmodel,\n",
        "    objective='val_mean_squared_logarithmic_error',\n",
        "    max_epochs=10,\n",
        "    directory='keras_tuner_dir',\n",
        "    project_name='house price with keras'\n",
        ")"
      ],
      "metadata": {
        "id": "crfbQ9dmXDJs"
      },
      "execution_count": 27,
      "outputs": []
    },
    {
      "cell_type": "code",
      "source": [
        "tuner.search(X_train, y_train, epochs=10, validation_split=0.2)"
      ],
      "metadata": {
        "id": "vbLHp5yvXTgw"
      },
      "execution_count": 28,
      "outputs": []
    },
    {
      "cell_type": "markdown",
      "source": [
        "**Best Parameters**"
      ],
      "metadata": {
        "id": "n5fwaBj1YDnW"
      }
    },
    {
      "cell_type": "code",
      "source": [
        "for p in ['units1','units2','units3','learning_rate']:\n",
        "  print(p, tuner.get_best_hyperparameters()[0].get(p))"
      ],
      "metadata": {
        "colab": {
          "base_uri": "https://localhost:8080/"
        },
        "id": "dWkEYCAsXmlW",
        "outputId": "952df41a-2d2b-4d21-f083-7bee85a6ebfe"
      },
      "execution_count": 29,
      "outputs": [
        {
          "output_type": "stream",
          "name": "stdout",
          "text": [
            "units1 384\n",
            "units2 384\n",
            "units3 512\n",
            "learning_rate 0.01\n"
          ]
        }
      ]
    },
    {
      "cell_type": "markdown",
      "source": [
        "**Model Evaluation**"
      ],
      "metadata": {
        "id": "DoqWvBEkYIMJ"
      }
    },
    {
      "cell_type": "code",
      "source": [
        "best_hps=tuner.get_best_hyperparameters(num_trials=1)[0]\n",
        "best_hps"
      ],
      "metadata": {
        "colab": {
          "base_uri": "https://localhost:8080/"
        },
        "id": "dSDJgay6YFFD",
        "outputId": "8fd96c49-3a7b-4542-dd71-fb3c73a518e9"
      },
      "execution_count": 30,
      "outputs": [
        {
          "output_type": "execute_result",
          "data": {
            "text/plain": [
              "<keras_tuner.engine.hyperparameters.HyperParameters at 0x7f964f8d2a90>"
            ]
          },
          "metadata": {},
          "execution_count": 30
        }
      ]
    },
    {
      "cell_type": "code",
      "source": [
        "model = tuner.hypermodel.build(best_hps)"
      ],
      "metadata": {
        "id": "hRENlGmNYOve"
      },
      "execution_count": 31,
      "outputs": []
    },
    {
      "cell_type": "code",
      "source": [
        "history = model.fit(X_train, y_train, epochs=50, validation_split=0.2)"
      ],
      "metadata": {
        "colab": {
          "base_uri": "https://localhost:8080/"
        },
        "id": "7Q__LkbCYRQK",
        "outputId": "82d575f3-37a1-468a-930e-23fbf6fdbef8"
      },
      "execution_count": 32,
      "outputs": [
        {
          "output_type": "stream",
          "name": "stdout",
          "text": [
            "Epoch 1/50\n",
            "384/384 [==============================] - 4s 7ms/step - loss: 2.3217 - mean_squared_logarithmic_error: 2.3169 - val_loss: 0.1744 - val_mean_squared_logarithmic_error: 0.1743\n",
            "Epoch 2/50\n",
            "384/384 [==============================] - 2s 5ms/step - loss: 0.1252 - mean_squared_logarithmic_error: 0.1249 - val_loss: 0.1360 - val_mean_squared_logarithmic_error: 0.1359\n",
            "Epoch 3/50\n",
            "384/384 [==============================] - 2s 6ms/step - loss: 0.1061 - mean_squared_logarithmic_error: 0.1060 - val_loss: 0.1239 - val_mean_squared_logarithmic_error: 0.1238\n",
            "Epoch 4/50\n",
            "384/384 [==============================] - 2s 6ms/step - loss: 0.0996 - mean_squared_logarithmic_error: 0.0995 - val_loss: 0.1192 - val_mean_squared_logarithmic_error: 0.1191\n",
            "Epoch 5/50\n",
            "384/384 [==============================] - 2s 6ms/step - loss: 0.0963 - mean_squared_logarithmic_error: 0.0962 - val_loss: 0.1148 - val_mean_squared_logarithmic_error: 0.1147\n",
            "Epoch 6/50\n",
            "384/384 [==============================] - 2s 6ms/step - loss: 0.0943 - mean_squared_logarithmic_error: 0.0943 - val_loss: 0.1132 - val_mean_squared_logarithmic_error: 0.1131\n",
            "Epoch 7/50\n",
            "384/384 [==============================] - 2s 6ms/step - loss: 0.0931 - mean_squared_logarithmic_error: 0.0937 - val_loss: 0.0934 - val_mean_squared_logarithmic_error: 0.0933\n",
            "Epoch 8/50\n",
            "384/384 [==============================] - 2s 4ms/step - loss: 0.0898 - mean_squared_logarithmic_error: 0.0899 - val_loss: 0.0953 - val_mean_squared_logarithmic_error: 0.0953\n",
            "Epoch 9/50\n",
            "384/384 [==============================] - 1s 3ms/step - loss: 0.0888 - mean_squared_logarithmic_error: 0.0886 - val_loss: 0.0882 - val_mean_squared_logarithmic_error: 0.0882\n",
            "Epoch 10/50\n",
            "384/384 [==============================] - 1s 4ms/step - loss: 0.0885 - mean_squared_logarithmic_error: 0.0883 - val_loss: 0.0964 - val_mean_squared_logarithmic_error: 0.0963\n",
            "Epoch 11/50\n",
            "384/384 [==============================] - 1s 4ms/step - loss: 0.0870 - mean_squared_logarithmic_error: 0.0872 - val_loss: 0.0947 - val_mean_squared_logarithmic_error: 0.0947\n",
            "Epoch 12/50\n",
            "384/384 [==============================] - 1s 3ms/step - loss: 0.0871 - mean_squared_logarithmic_error: 0.0871 - val_loss: 0.0888 - val_mean_squared_logarithmic_error: 0.0888\n",
            "Epoch 13/50\n",
            "384/384 [==============================] - 1s 3ms/step - loss: 0.0848 - mean_squared_logarithmic_error: 0.0847 - val_loss: 0.0841 - val_mean_squared_logarithmic_error: 0.0840\n",
            "Epoch 14/50\n",
            "384/384 [==============================] - 1s 4ms/step - loss: 0.0845 - mean_squared_logarithmic_error: 0.0844 - val_loss: 0.0846 - val_mean_squared_logarithmic_error: 0.0846\n",
            "Epoch 15/50\n",
            "384/384 [==============================] - 1s 4ms/step - loss: 0.0835 - mean_squared_logarithmic_error: 0.0834 - val_loss: 0.0839 - val_mean_squared_logarithmic_error: 0.0839\n",
            "Epoch 16/50\n",
            "384/384 [==============================] - 1s 3ms/step - loss: 0.0824 - mean_squared_logarithmic_error: 0.0822 - val_loss: 0.0960 - val_mean_squared_logarithmic_error: 0.0960\n",
            "Epoch 17/50\n",
            "384/384 [==============================] - 1s 3ms/step - loss: 0.0802 - mean_squared_logarithmic_error: 0.0801 - val_loss: 0.0789 - val_mean_squared_logarithmic_error: 0.0789\n",
            "Epoch 18/50\n",
            "384/384 [==============================] - 1s 3ms/step - loss: 0.0810 - mean_squared_logarithmic_error: 0.0810 - val_loss: 0.0818 - val_mean_squared_logarithmic_error: 0.0818\n",
            "Epoch 19/50\n",
            "384/384 [==============================] - 1s 4ms/step - loss: 0.0799 - mean_squared_logarithmic_error: 0.0797 - val_loss: 0.0822 - val_mean_squared_logarithmic_error: 0.0822\n",
            "Epoch 20/50\n",
            "384/384 [==============================] - 1s 3ms/step - loss: 0.0798 - mean_squared_logarithmic_error: 0.0797 - val_loss: 0.0820 - val_mean_squared_logarithmic_error: 0.0820\n",
            "Epoch 21/50\n",
            "384/384 [==============================] - 1s 3ms/step - loss: 0.0785 - mean_squared_logarithmic_error: 0.0784 - val_loss: 0.0886 - val_mean_squared_logarithmic_error: 0.0886\n",
            "Epoch 22/50\n",
            "384/384 [==============================] - 1s 4ms/step - loss: 0.0775 - mean_squared_logarithmic_error: 0.0777 - val_loss: 0.0802 - val_mean_squared_logarithmic_error: 0.0802\n",
            "Epoch 23/50\n",
            "384/384 [==============================] - 1s 4ms/step - loss: 0.0777 - mean_squared_logarithmic_error: 0.0779 - val_loss: 0.0782 - val_mean_squared_logarithmic_error: 0.0782\n",
            "Epoch 24/50\n",
            "384/384 [==============================] - 1s 3ms/step - loss: 0.0767 - mean_squared_logarithmic_error: 0.0766 - val_loss: 0.0810 - val_mean_squared_logarithmic_error: 0.0810\n",
            "Epoch 25/50\n",
            "384/384 [==============================] - 1s 3ms/step - loss: 0.0765 - mean_squared_logarithmic_error: 0.0764 - val_loss: 0.0785 - val_mean_squared_logarithmic_error: 0.0785\n",
            "Epoch 26/50\n",
            "384/384 [==============================] - 1s 3ms/step - loss: 0.0756 - mean_squared_logarithmic_error: 0.0756 - val_loss: 0.0731 - val_mean_squared_logarithmic_error: 0.0731\n",
            "Epoch 27/50\n",
            "384/384 [==============================] - 1s 4ms/step - loss: 0.0747 - mean_squared_logarithmic_error: 0.0749 - val_loss: 0.0734 - val_mean_squared_logarithmic_error: 0.0734\n",
            "Epoch 28/50\n",
            "384/384 [==============================] - 1s 4ms/step - loss: 0.0743 - mean_squared_logarithmic_error: 0.0745 - val_loss: 0.0759 - val_mean_squared_logarithmic_error: 0.0759\n",
            "Epoch 29/50\n",
            "384/384 [==============================] - 1s 4ms/step - loss: 0.0740 - mean_squared_logarithmic_error: 0.0739 - val_loss: 0.0752 - val_mean_squared_logarithmic_error: 0.0751\n",
            "Epoch 30/50\n",
            "384/384 [==============================] - 1s 3ms/step - loss: 0.0724 - mean_squared_logarithmic_error: 0.0724 - val_loss: 0.0743 - val_mean_squared_logarithmic_error: 0.0743\n",
            "Epoch 31/50\n",
            "384/384 [==============================] - 1s 3ms/step - loss: 0.0722 - mean_squared_logarithmic_error: 0.0721 - val_loss: 0.0728 - val_mean_squared_logarithmic_error: 0.0728\n",
            "Epoch 32/50\n",
            "384/384 [==============================] - 1s 3ms/step - loss: 0.0707 - mean_squared_logarithmic_error: 0.0706 - val_loss: 0.0714 - val_mean_squared_logarithmic_error: 0.0713\n",
            "Epoch 33/50\n",
            "384/384 [==============================] - 1s 3ms/step - loss: 0.0693 - mean_squared_logarithmic_error: 0.0692 - val_loss: 0.0721 - val_mean_squared_logarithmic_error: 0.0721\n",
            "Epoch 34/50\n",
            "384/384 [==============================] - 1s 3ms/step - loss: 0.0692 - mean_squared_logarithmic_error: 0.0691 - val_loss: 0.0683 - val_mean_squared_logarithmic_error: 0.0683\n",
            "Epoch 35/50\n",
            "384/384 [==============================] - 1s 3ms/step - loss: 0.0674 - mean_squared_logarithmic_error: 0.0673 - val_loss: 0.0674 - val_mean_squared_logarithmic_error: 0.0674\n",
            "Epoch 36/50\n",
            "384/384 [==============================] - 1s 4ms/step - loss: 0.0667 - mean_squared_logarithmic_error: 0.0666 - val_loss: 0.0680 - val_mean_squared_logarithmic_error: 0.0680\n",
            "Epoch 37/50\n",
            "384/384 [==============================] - 1s 3ms/step - loss: 0.0667 - mean_squared_logarithmic_error: 0.0666 - val_loss: 0.0714 - val_mean_squared_logarithmic_error: 0.0714\n",
            "Epoch 38/50\n",
            "384/384 [==============================] - 1s 4ms/step - loss: 0.0660 - mean_squared_logarithmic_error: 0.0659 - val_loss: 0.0660 - val_mean_squared_logarithmic_error: 0.0660\n",
            "Epoch 39/50\n",
            "384/384 [==============================] - 1s 4ms/step - loss: 0.0652 - mean_squared_logarithmic_error: 0.0656 - val_loss: 0.0690 - val_mean_squared_logarithmic_error: 0.0689\n",
            "Epoch 40/50\n",
            "384/384 [==============================] - 1s 3ms/step - loss: 0.0642 - mean_squared_logarithmic_error: 0.0647 - val_loss: 0.0759 - val_mean_squared_logarithmic_error: 0.0758\n",
            "Epoch 41/50\n",
            "384/384 [==============================] - 1s 4ms/step - loss: 0.0658 - mean_squared_logarithmic_error: 0.0659 - val_loss: 0.0659 - val_mean_squared_logarithmic_error: 0.0659\n",
            "Epoch 42/50\n",
            "384/384 [==============================] - 1s 4ms/step - loss: 0.0628 - mean_squared_logarithmic_error: 0.0629 - val_loss: 0.0670 - val_mean_squared_logarithmic_error: 0.0670\n",
            "Epoch 43/50\n",
            "384/384 [==============================] - 1s 3ms/step - loss: 0.0626 - mean_squared_logarithmic_error: 0.0627 - val_loss: 0.0629 - val_mean_squared_logarithmic_error: 0.0629\n",
            "Epoch 44/50\n",
            "384/384 [==============================] - 1s 4ms/step - loss: 0.0614 - mean_squared_logarithmic_error: 0.0616 - val_loss: 0.0667 - val_mean_squared_logarithmic_error: 0.0667\n",
            "Epoch 45/50\n",
            "384/384 [==============================] - 1s 4ms/step - loss: 0.0620 - mean_squared_logarithmic_error: 0.0618 - val_loss: 0.0676 - val_mean_squared_logarithmic_error: 0.0676\n",
            "Epoch 46/50\n",
            "384/384 [==============================] - 1s 4ms/step - loss: 0.0602 - mean_squared_logarithmic_error: 0.0601 - val_loss: 0.0619 - val_mean_squared_logarithmic_error: 0.0619\n",
            "Epoch 47/50\n",
            "384/384 [==============================] - 2s 4ms/step - loss: 0.0616 - mean_squared_logarithmic_error: 0.0615 - val_loss: 0.0622 - val_mean_squared_logarithmic_error: 0.0622\n",
            "Epoch 48/50\n",
            "384/384 [==============================] - 1s 4ms/step - loss: 0.0597 - mean_squared_logarithmic_error: 0.0597 - val_loss: 0.0625 - val_mean_squared_logarithmic_error: 0.0625\n",
            "Epoch 49/50\n",
            "384/384 [==============================] - 1s 3ms/step - loss: 0.0608 - mean_squared_logarithmic_error: 0.0607 - val_loss: 0.0638 - val_mean_squared_logarithmic_error: 0.0637\n",
            "Epoch 50/50\n",
            "384/384 [==============================] - 1s 3ms/step - loss: 0.0590 - mean_squared_logarithmic_error: 0.0594 - val_loss: 0.0671 - val_mean_squared_logarithmic_error: 0.0671\n"
          ]
        }
      ]
    },
    {
      "cell_type": "code",
      "source": [
        "eval_result = model.evaluate(X_test, y_test)\n",
        "print(eval_result)"
      ],
      "metadata": {
        "colab": {
          "base_uri": "https://localhost:8080/"
        },
        "id": "5sRVzK0NYVke",
        "outputId": "97644bcf-73c0-473e-f236-da55bb532beb"
      },
      "execution_count": 33,
      "outputs": [
        {
          "output_type": "stream",
          "name": "stdout",
          "text": [
            "160/160 [==============================] - 0s 2ms/step - loss: 0.0675 - mean_squared_logarithmic_error: 0.0676\n",
            "[0.06754999607801437, 0.06758880615234375]\n"
          ]
        }
      ]
    },
    {
      "cell_type": "code",
      "source": [
        "model.summary()"
      ],
      "metadata": {
        "colab": {
          "base_uri": "https://localhost:8080/"
        },
        "id": "bgtucqp9Y0Tf",
        "outputId": "6e639fcc-b690-4e6a-c682-f3ec87073e8b"
      },
      "execution_count": 34,
      "outputs": [
        {
          "output_type": "stream",
          "name": "stdout",
          "text": [
            "Model: \"sequential_1\"\n",
            "_________________________________________________________________\n",
            " Layer (type)                Output Shape              Param #   \n",
            "=================================================================\n",
            " dense_4 (Dense)             (None, 384)               4992      \n",
            "                                                                 \n",
            " dense_5 (Dense)             (None, 384)               147840    \n",
            "                                                                 \n",
            " dense_6 (Dense)             (None, 512)               197120    \n",
            "                                                                 \n",
            " dense_7 (Dense)             (None, 1)                 513       \n",
            "                                                                 \n",
            "=================================================================\n",
            "Total params: 350,465\n",
            "Trainable params: 350,465\n",
            "Non-trainable params: 0\n",
            "_________________________________________________________________\n"
          ]
        }
      ]
    },
    {
      "cell_type": "code",
      "source": [],
      "metadata": {
        "id": "_dRCdU2vY8A1"
      },
      "execution_count": 34,
      "outputs": []
    }
  ]
}